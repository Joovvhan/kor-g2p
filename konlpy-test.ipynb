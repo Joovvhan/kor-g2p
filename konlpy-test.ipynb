{
 "cells": [
  {
   "cell_type": "code",
   "execution_count": 15,
   "metadata": {},
   "outputs": [],
   "source": [
    "from glob import glob\n",
    "import csv"
   ]
  },
  {
   "cell_type": "code",
   "execution_count": 17,
   "metadata": {},
   "outputs": [],
   "source": [
    "import jamotools"
   ]
  },
  {
   "cell_type": "code",
   "execution_count": 5,
   "metadata": {},
   "outputs": [
    {
     "name": "stdout",
     "output_type": "stream",
     "text": [
      "['공부', '를', '하', '면', '하', 'ㄹ수록', '모르', '는', '것', '이', '많', '다는', '것', '을', '알', '게', '되', 'ㅂ니다', '.']\n",
      "['대학', '통계학', '이산', '이산수학', '수학', '등']\n",
      "[('다', 'MAG'), ('까먹', 'VV'), ('어', 'ECD'), ('버리', 'VXV'), ('었', 'EPT'), ('네요', 'EFN'), ('?', 'SF'), ('ㅋㅋ', 'EMO')]\n",
      "['그래도 계속 공부합니다.', '재밌으니까!']\n"
     ]
    },
    {
     "data": {
      "text/plain": [
       "['그래도 계속 공부합니다.', '재밌으니까!']"
      ]
     },
     "execution_count": 5,
     "metadata": {},
     "output_type": "execute_result"
    }
   ],
   "source": [
    "from konlpy.tag import Kkma"
   ]
  },
  {
   "cell_type": "code",
   "execution_count": 6,
   "metadata": {},
   "outputs": [
    {
     "name": "stdout",
     "output_type": "stream",
     "text": [
      "['공부', '를', '하', '면', '하', 'ㄹ수록', '모르', '는', '것', '이', '많', '다는', '것', '을', '알', '게', '되', 'ㅂ니다', '.']\n",
      "['대학', '통계학', '이산', '이산수학', '수학', '등']\n",
      "[('다', 'MAG'), ('까먹', 'VV'), ('어', 'ECD'), ('버리', 'VXV'), ('었', 'EPT'), ('네요', 'EFN'), ('?', 'SF'), ('ㅋㅋ', 'EMO')]\n",
      "['그래도 계속 공부합니다.', '재밌으니까!']\n"
     ]
    },
    {
     "data": {
      "text/plain": [
       "['그래도 계속 공부합니다.', '재밌으니까!']"
      ]
     },
     "execution_count": 6,
     "metadata": {},
     "output_type": "execute_result"
    }
   ],
   "source": [
    ">>> kkma = Kkma()\n",
    ">>> print(kkma.morphs(u'공부를 하면할수록 모르는게 많다는 것을 알게 됩니다.'))\n",
    "\n"
   ]
  },
  {
   "cell_type": "code",
   "execution_count": 11,
   "metadata": {},
   "outputs": [
    {
     "name": "stdout",
     "output_type": "stream",
     "text": [
      "['공부', '를', '하', '면', '하', 'ㄹ수록', '모르', '는', '것', '이', '많', '다는', '것', '을', '알', '게', '되', 'ㅂ니다', '.']\n",
      "['대학', '통계학', '이산', '이산수학', '수학', '등']\n",
      "[('다', 'MAG'), ('까먹', 'VV'), ('어', 'ECD'), ('버리', 'VXV'), ('었', 'EPT'), ('네요', 'EFN'), ('?', 'SF'), ('ㅋㅋ', 'EMO')]\n",
      "['그래도 계속 공부합니다.', '재밌으니까!']\n",
      "\n"
     ]
    }
   ],
   "source": [
    "print(kkma.morphs(u'공부를 하면할수록 모르는게 많다는 것을 알게 됩니다.'))\n",
    "['공부', '를', '하', '면', '하', 'ㄹ수록', '모르', '는', '것', '이', '많', '다는', '것', '을', '알', '게', '되', 'ㅂ니다', '.']\n",
    "\n",
    "print(kkma.nouns(u'대학에서 DB, 통계학, 이산수학 등을 배웠지만...'))\n",
    "['대학', '통계학', '이산', '이산수학', '수학', '등']\n",
    "\n",
    "print(kkma.pos(u'다 까먹어버렸네요?ㅋㅋ'))\n",
    "[('다', 'MAG'), ('까먹', 'VV'), ('어', 'ECD'), ('버리', 'VXV'), ('었', 'EPT'), ('네요', 'EFN'), ('?', 'SF'), ('ㅋㅋ', 'EMO')]\n",
    "\n",
    "print(kkma.sentences(u'그래도 계속 공부합니다. 재밌으니까!'))\n",
    "['그래도 계속 공부합니다.', '재밌으니까!']\n",
    "\n",
    "print()\n"
   ]
  },
  {
   "cell_type": "code",
   "execution_count": 18,
   "metadata": {},
   "outputs": [],
   "source": [
    "pronounce_file = glob('*.csv')[0]\n",
    "\n",
    "with open(pronounce_file, 'r') as file:\n",
    "    csv_reader = csv.reader(file)\n",
    "    files = next(csv_reader)\n",
    "    text = next(csv_reader)\n",
    "    jamo = next(csv_reader)\n",
    "    pronounce = [jamotools.split_syllables(line, 'JAMO') for line in next(csv_reader)]"
   ]
  },
  {
   "cell_type": "code",
   "execution_count": 31,
   "metadata": {
    "scrolled": false
   },
   "outputs": [
    {
     "name": "stdout",
     "output_type": "stream",
     "text": [
      "그는 아내를 많이 아낀다. 14\n",
      "[('그', 'NP'), ('는', 'JX'), ('아내', 'NNG'), ('를', 'JKO'), ('많이', 'MAG'), ('아끼', 'VV'), ('ㄴ다', 'EFN'), ('.', 'SF')]\n",
      "\n",
      "열쇠를 잃어버려서 창문으로 집에 들어갔다. 23\n",
      "[('열쇠', 'NNG'), ('를', 'JKO'), ('잃어버리', 'VV'), ('어서', 'ECD'), ('창문', 'NNG'), ('으로', 'JKM'), ('집', 'NNG'), ('에', 'JKM'), ('들어가', 'VV'), ('었', 'EPT'), ('다', 'EFN'), ('.', 'SF')]\n",
      "\n",
      "내 취미는 길거리의 사람들을 관찰하는 거야. 24\n",
      "[('내', 'NP'), ('취미', 'NNG'), ('는', 'JX'), ('길거리', 'NNG'), ('의', 'JKG'), ('사람', 'NNG'), ('들', 'XSN'), ('을', 'JKO'), ('관찰', 'NNG'), ('하', 'XSV'), ('는', 'ETD'), ('거', 'NNB'), ('야', 'JX'), ('.', 'SF')]\n",
      "\n",
      "열쇠를 어디에 흘린 거야? 14\n",
      "[('열쇠', 'NNG'), ('를', 'JKO'), ('어디', 'NP'), ('에', 'JKM'), ('흘리', 'VV'), ('ㄴ', 'ETD'), ('거', 'NNB'), ('야', 'JX'), ('?', 'SF')]\n",
      "\n",
      "길거리 흡연은 뜨거운 쟁점이 되고 있다. 22\n",
      "[('길거리', 'NNG'), ('흡연', 'NNG'), ('은', 'JX'), ('뜨겁', 'VA'), ('ㄴ', 'ETD'), ('쟁점', 'NNG'), ('이', 'JKC'), ('되', 'VV'), ('고', 'ECE'), ('있', 'VXV'), ('다', 'EFN'), ('.', 'SF')]\n",
      "\n",
      "그는 열쇠 구멍을 통해 훔쳐보다가 잡혔다. 23\n",
      "[('그', 'VV'), ('는', 'ETD'), ('열쇠', 'NNG'), ('구멍', 'NNG'), ('을', 'JKO'), ('통하', 'VV'), ('어', 'ECS'), ('훔쳐보', 'VV'), ('다가', 'ECD'), ('잡히', 'VV'), ('었', 'EPT'), ('다', 'EFN'), ('.', 'SF')]\n",
      "\n",
      "집에 도달해서야 열쇠를 놓고 온 것을 알았어요. 26\n",
      "[('집', 'NNG'), ('에', 'JKM'), ('도달', 'NNG'), ('하', 'XSV'), ('어서', 'ECD'), ('야', 'NNG'), ('열쇠', 'NNG'), ('를', 'JKO'), ('놓', 'VV'), ('고', 'ECE'), ('오', 'VV'), ('ㄴ', 'ETD'), ('것', 'NNB'), ('을', 'JKO'), ('알', 'VV'), ('았', 'EPT'), ('어요', 'EFN'), ('.', 'SF')]\n",
      "\n",
      "다행히도 열쇠를 다시 찾았어요. 17\n",
      "[('다행히', 'MAG'), ('도', 'JX'), ('열쇠', 'NNG'), ('를', 'JKO'), ('다시', 'MAG'), ('찾', 'VV'), ('았', 'EPT'), ('어요', 'EFN'), ('.', 'SF')]\n",
      "\n",
      "예비 열쇠가 있어? 10\n",
      "[('예비', 'NNG'), ('열쇠', 'NNG'), ('가', 'JKS'), ('있', 'VV'), ('어', 'ECD'), ('?', 'SF')]\n",
      "\n",
      "열쇠 여분이 있나요? 11\n",
      "[('열쇠', 'NNG'), ('여분', 'NNG'), ('이', 'JKS'), ('있', 'VV'), ('나요', 'EFQ'), ('?', 'SF')]\n",
      "\n",
      "에이. 내 열쇠 어디 갔지? 비. 침대 위는 봤어? 28\n",
      "[('에이', 'NNG'), ('.', 'SF'), ('내', 'NP'), ('열쇠', 'NNG'), ('어디', 'NP'), ('가', 'VV'), ('었', 'EPT'), ('지', 'EFN'), ('?', 'SF'), ('비', 'NNG'), ('.', 'SF'), ('침대', 'NNG'), ('위', 'NNG'), ('는', 'JX'), ('보', 'VV'), ('았', 'EPT'), ('어', 'EFN'), ('?', 'SF')]\n",
      "\n",
      "앗, 내 열쇠 사무실에 놓아두고 왔어! 21\n",
      "[('앗', 'IC'), (',', 'SP'), ('내', 'NP'), ('열쇠', 'NNG'), ('사무실', 'NNG'), ('에', 'JKM'), ('놓아두', 'VV'), ('고', 'ECE'), ('오', 'VX'), ('았', 'EPT'), ('어', 'EFN'), ('!', 'SF')]\n",
      "\n",
      "최근 길거리 범죄가 심각한 문제가 되고 있다. 25\n",
      "[('최근', 'NNG'), ('길거리', 'NNG'), ('범죄', 'NNG'), ('가', 'JKS'), ('심각', 'XR'), ('하', 'XSA'), ('ㄴ', 'ETD'), ('문제', 'NNG'), ('가', 'JKC'), ('되', 'VV'), ('고', 'ECE'), ('있', 'VXV'), ('다', 'EFN'), ('.', 'SF')]\n",
      "\n",
      "일주일 전에 길거리에서 강도를 당했어요. 22\n",
      "[('일주일', 'NNG'), ('전', 'NNG'), ('에', 'JKM'), ('길거리', 'NNG'), ('에서', 'JKM'), ('강도', 'NNG'), ('를', 'JKO'), ('당하', 'VV'), ('었', 'EPT'), ('어요', 'EFN'), ('.', 'SF')]\n",
      "\n",
      "길거리에 사람이 많아요. 13\n",
      "[('길거리', 'NNG'), ('에', 'JKM'), ('사람', 'NNG'), ('이', 'JKS'), ('많', 'VA'), ('아요', 'EFN'), ('.', 'SF')]\n",
      "\n",
      "외부에서는 열쇠가 없으면 문을 못 열어요. 23\n",
      "[('외부', 'NNG'), ('에서', 'JKM'), ('는', 'JX'), ('열쇠', 'NNG'), ('가', 'JKS'), ('없', 'VV'), ('으면', 'ECD'), ('문', 'NNG'), ('을', 'JKO'), ('못', 'MAG'), ('열', 'VV'), ('어요', 'EFN'), ('.', 'SF')]\n",
      "\n",
      "어제는 열쇠가 없어서 담을 넘어 들어왔어요. 24\n",
      "[('어제', 'NNG'), ('는', 'JX'), ('열쇠', 'NNG'), ('가', 'JKS'), ('없', 'VA'), ('어서', 'ECD'), ('담', 'NNG'), ('을', 'JKO'), ('넘', 'VV'), ('어', 'ECD'), ('들어오', 'VV'), ('았', 'EPT'), ('어요', 'EFN'), ('.', 'SF')]\n",
      "\n",
      "길거리에 사람이 너무 많아요. 16\n",
      "[('길거리', 'NNG'), ('에', 'JKM'), ('사람', 'NNG'), ('이', 'JKS'), ('너무', 'MAG'), ('많', 'VA'), ('아요', 'EFN'), ('.', 'SF')]\n",
      "\n",
      "열쇠를 어디에 흘렸나 봐. 14\n",
      "[('열쇠', 'NNG'), ('를', 'JKO'), ('어디', 'NP'), ('에', 'JKM'), ('흘리', 'VV'), ('었', 'EPT'), ('나', 'EFQ'), ('보', 'VV'), ('아', 'ECS'), ('.', 'SF')]\n",
      "\n",
      "호주머니에 넣어 뒀던 차 열쇠가 없어졌어! 23\n",
      "[('호주머니', 'NNG'), ('에', 'JKM'), ('넣', 'VV'), ('어', 'ECD'), ('두', 'VXV'), ('었', 'EPT'), ('더', 'EPT'), ('ㄴ', 'ETD'), ('차', 'NNG'), ('열쇠', 'NNG'), ('가', 'JKS'), ('없', 'VA'), ('어', 'ECD'), ('지', 'VXV'), ('었', 'EPT'), ('어', 'EFN'), ('!', 'SF')]\n",
      "\n",
      "행복의 열쇠는 자기 마음속에 있는 거예요. 23\n",
      "[('행복', 'NNG'), ('의', 'JKG'), ('열쇠', 'NNG'), ('는', 'JX'), ('자기', 'NP'), ('마음속', 'NNG'), ('에', 'JKM'), ('있', 'VV'), ('는', 'ETD'), ('거', 'NNB'), ('이', 'VCP'), ('에요', 'EFN'), ('.', 'SF')]\n",
      "\n",
      "떡볶이는 대표적인 길거리 음식이에요. 20\n",
      "[('떡볶이', 'NNG'), ('는', 'JX'), ('대표적', 'NNG'), ('이', 'VCP'), ('ㄴ', 'ETD'), ('길', 'NNG'), ('거리', 'NNG'), ('음식', 'NNG'), ('이', 'VCP'), ('에요', 'EFN'), ('.', 'SF')]\n",
      "\n",
      "열쇠 아직도 못 찾았어요? 14\n",
      "[('열쇠', 'NNG'), ('아직', 'MAG'), ('도', 'JX'), ('못', 'MAG'), ('찾', 'VV'), ('았', 'EPT'), ('어요', 'EFN'), ('?', 'SF')]\n",
      "\n"
     ]
    }
   ],
   "source": [
    "for i, t in enumerate(text):\n",
    "    \n",
    "    if '아낀다' in t or '길거리' in t or '열쇠' in t:\n",
    "        print(t, len(t))\n",
    "        print(kkma.pos(t))\n",
    "        print()\n",
    "\n",
    "    if '해변가' in t:\n",
    "        break"
   ]
  },
  {
   "cell_type": "code",
   "execution_count": null,
   "metadata": {},
   "outputs": [],
   "source": []
  }
 ],
 "metadata": {
  "kernelspec": {
   "display_name": "Python 3",
   "language": "python",
   "name": "python3"
  },
  "language_info": {
   "codemirror_mode": {
    "name": "ipython",
    "version": 3
   },
   "file_extension": ".py",
   "mimetype": "text/x-python",
   "name": "python",
   "nbconvert_exporter": "python",
   "pygments_lexer": "ipython3",
   "version": "3.7.5"
  }
 },
 "nbformat": 4,
 "nbformat_minor": 2
}
